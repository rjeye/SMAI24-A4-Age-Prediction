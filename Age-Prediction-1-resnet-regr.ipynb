{
 "cells": [
  {
   "cell_type": "markdown",
   "metadata": {},
   "source": [
    "# SMAI Assignment - 4\n",
    "\n",
    "## $\\color{gold}{\\text{Mini-Project: Age Prediction}}$"
   ]
  },
  {
   "cell_type": "code",
   "execution_count": 42,
   "metadata": {},
   "outputs": [
    {
     "name": "stdout",
     "output_type": "stream",
     "text": [
      "The autoreload extension is already loaded. To reload it, use:\n",
      "  %reload_ext autoreload\n"
     ]
    }
   ],
   "source": [
    "# Helpful preamble commands and imports for Jupyter notebooks \n",
    "\n",
    "# reload notebook automatically after changes to source python files\n",
    "%load_ext autoreload\n",
    "%autoreload 2\n",
    "\n",
    "# standard libraries\n",
    "from pathlib import Path\n",
    "import json\n",
    "from glob import glob\n",
    "from os.path import join\n",
    "from pathlib import Path\n",
    "from tqdm import tqdm\n",
    "\n",
    "# scientific computing\n",
    "import math\n",
    "import numpy as np\n",
    "import pandas as pd\n",
    "from PIL import Image\n",
    "\n",
    "# visualization\n",
    "import matplotlib.pyplot as plt\n",
    "from mpl_toolkits.mplot3d import Axes3D\n",
    "import matplotlib\n",
    "%matplotlib inline"
   ]
  },
  {
   "cell_type": "code",
   "execution_count": 43,
   "metadata": {},
   "outputs": [],
   "source": [
    "import torch\n",
    "from torchvision.transforms import Compose, Resize, ToTensor, Normalize\n",
    "\n",
    "# setting random seed for reproducibility\n",
    "RANDOM_SEED = 24\n",
    "np.random.seed(RANDOM_SEED)\n",
    "torch.manual_seed(RANDOM_SEED)\n",
    "torch.cuda.manual_seed_all(RANDOM_SEED)\n",
    "\n",
    "KAGGLE = False\n",
    "if KAGGLE:\n",
    "    DATA_PATH = Path('/kaggle/input/smai-24-age-prediction/content/faces_dataset/')\n",
    "else:\n",
    "    DATA_PATH = Path('data/')\n",
    "\n",
    "train_path = DATA_PATH / 'train_aug_4'\n",
    "train_ann_path = DATA_PATH / 'train_aug_4.csv'\n",
    "test_path = DATA_PATH / 'test'\n",
    "test_ann_path = DATA_PATH / 'submission.csv'"
   ]
  },
  {
   "cell_type": "code",
   "execution_count": 44,
   "metadata": {},
   "outputs": [],
   "source": [
    "class AgeDataset(torch.utils.data.Dataset):\n",
    "\n",
    "    def __init__(self, data_path, annot_path, train=True):\n",
    "        super(AgeDataset, self).__init__()\n",
    "\n",
    "        self.annot_path = annot_path\n",
    "        self.data_path = data_path\n",
    "        self.train = train\n",
    "        \n",
    "        self.ann = pd.read_csv(annot_path)\n",
    "        self.files = self.ann['file_id']\n",
    "        if train:\n",
    "            self.ages = self.ann['age']\n",
    "        self.transform = self._transform(224)\n",
    "\n",
    "    @staticmethod    \n",
    "    def _convert_image_to_rgb(image):\n",
    "        return image.convert(\"RGB\")\n",
    "\n",
    "    def _transform(self, n_px):\n",
    "        mean = [0.485, 0.456, 0.406]\n",
    "        std = [0.229, 0.224, 0.225]\n",
    "        return Compose([\n",
    "            Resize(n_px),\n",
    "            self._convert_image_to_rgb,\n",
    "            ToTensor(),\n",
    "            Normalize(mean, std),\n",
    "        ])\n",
    "\n",
    "    def read_img(self, file_name):\n",
    "        im_path = join(self.data_path,file_name)   \n",
    "        img = Image.open(im_path)\n",
    "        img = self.transform(img)\n",
    "        return img\n",
    "\n",
    "    def __getitem__(self, index):\n",
    "        file_name = self.files[index]\n",
    "        img = self.read_img(file_name)\n",
    "        if self.train:\n",
    "            age = self.ages[index]    \n",
    "            return img, age\n",
    "        else:\n",
    "            return img\n",
    "\n",
    "    def __len__(self):\n",
    "        return len(self.files)\n",
    "\n",
    "train_dataset = AgeDataset(train_path, train_ann_path, train=True)\n",
    "test_dataset = AgeDataset(test_path, test_ann_path, train=False)"
   ]
  },
  {
   "cell_type": "code",
   "execution_count": 45,
   "metadata": {},
   "outputs": [
    {
     "name": "stdout",
     "output_type": "stream",
     "text": [
      "Number of training examples: 27526\n",
      "Number of validation examples: 3058\n",
      "Number of test examples: 1950\n"
     ]
    }
   ],
   "source": [
    "from torch.utils.data import random_split\n",
    "\n",
    "val_size = int(0.1 * len(train_dataset))\n",
    "train_size = len(train_dataset) - val_size\n",
    "train_dataset, val_dataset = random_split(train_dataset, [train_size, val_size])\n",
    "\n",
    "# printing the number of training and test examples\n",
    "print(f\"Number of training examples: {len(train_dataset)}\")\n",
    "print(f\"Number of validation examples: {len(val_dataset)}\")\n",
    "print(f\"Number of test examples: {len(test_dataset)}\")"
   ]
  },
  {
   "cell_type": "code",
   "execution_count": 46,
   "metadata": {},
   "outputs": [
    {
     "name": "stdout",
     "output_type": "stream",
     "text": [
      "Input shape: torch.Size([5, 3, 224, 224])\n",
      "Pred shape: torch.Size([5, 1])\n"
     ]
    }
   ],
   "source": [
    "import torch.nn as nn\n",
    "from torchvision.models import resnet50, ResNet50_Weights, resnet18, ResNet18_Weights, resnet34, ResNet34_Weights\n",
    "\n",
    "class KronosNet(nn.Module):\n",
    "    def __init__(self, num_classes=1, freeze_layers=-1, use_batchnorm=False):\n",
    "        super(KronosNet, self).__init__()\n",
    "        \n",
    "        # loading resnet50 model and freezing its parameters\n",
    "        # resnet = resnet50(weights=ResNet50_Weights.IMAGENET1K_V2)\n",
    "        resnet = resnet18(weights=ResNet18_Weights.DEFAULT)\n",
    "        # resnet = resnet34(weights=ResNet34_Weights.DEFAULT)\n",
    "        # resnet = resnet18()\n",
    "            \n",
    "        if freeze_layers > 0:\n",
    "            for idx, child in enumerate(resnet.children()):\n",
    "                if idx < freeze_layers:\n",
    "                    for param in child.parameters():\n",
    "                        param.requires_grad = False\n",
    "                else:\n",
    "                    break\n",
    "        else:\n",
    "            for param in resnet.parameters():\n",
    "                param.requires_grad = True\n",
    "            \n",
    "        # changing the last layer to output num_classes\n",
    "        num_ftrs = resnet.fc.in_features\n",
    "        resnet.fc = nn.Linear(num_ftrs, num_classes)\n",
    "        \n",
    "        if use_batchnorm:\n",
    "            resnet = self.add_batchnorm(resnet)\n",
    "        \n",
    "        self.resnet = resnet\n",
    "        \n",
    "    def forward(self, x):\n",
    "        return self.resnet(x)\n",
    "    \n",
    "    def add_batchnorm(self, model):\n",
    "        # Add batch normalization to each convolutional layer\n",
    "        for child_name, child in model.named_children():\n",
    "            if isinstance(child, nn.Conv2d):\n",
    "                setattr(model, child_name, nn.Sequential(child, nn.BatchNorm2d(child.out_channels)))\n",
    "            else:\n",
    "                self.add_batchnorm(child)\n",
    "        return model\n",
    "\n",
    "# sanity check on the model\n",
    "num_classes = 1\n",
    "test_knet = KronosNet(num_classes)\n",
    "img = torch.randn(5, 3, 224, 224)\n",
    "pred = test_knet(img)\n",
    "print(f\"Input shape: {img.shape}\")\n",
    "print(f\"Pred shape: {pred.shape}\")"
   ]
  },
  {
   "cell_type": "code",
   "execution_count": 47,
   "metadata": {},
   "outputs": [],
   "source": [
    "import torch.optim as optim\n",
    "\n",
    "def train_epoch(model, train_loader, criterion, optimizer, device):\n",
    "    model.train()\n",
    "    train_loss = 0.0\n",
    "    mean_abs_error = 0.0\n",
    "    \n",
    "    for inputs, targets in train_loader:\n",
    "        inputs, targets = inputs.to(device), targets.to(device)\n",
    "        optimizer.zero_grad()\n",
    "        outputs = model(inputs)\n",
    "        loss = criterion(outputs, targets.unsqueeze(1).float())\n",
    "        loss.backward()\n",
    "        optimizer.step()\n",
    "        \n",
    "        train_loss += loss.item()\n",
    "        mean_abs_error += torch.abs(outputs - targets.unsqueeze(1).float()).mean().item()\n",
    "    \n",
    "    train_loss /= len(train_loader)\n",
    "    mean_abs_error /= len(train_loader)\n",
    "    \n",
    "    return train_loss, mean_abs_error\n",
    "        \n",
    "def evaluate_epoch(model, val_loader, criterion, device):\n",
    "    model.eval()\n",
    "    val_loss = 0.0\n",
    "    mean_abs_error = 0.0\n",
    "    \n",
    "    with torch.no_grad():\n",
    "        for inputs, targets in val_loader:\n",
    "            inputs, targets = inputs.to(device), targets.to(device)\n",
    "            outputs = model(inputs)\n",
    "            loss = criterion(outputs, targets.unsqueeze(1).float())\n",
    "            \n",
    "            val_loss += loss.item()\n",
    "            mean_abs_error += torch.abs(outputs - targets.unsqueeze(1).float()).mean().item()\n",
    "    \n",
    "    val_loss /= len(val_loader)\n",
    "    mean_abs_error /= len(val_loader)\n",
    "    \n",
    "    return val_loss, mean_abs_error\n",
    "\n",
    "def run_experiment(model, train_loader, val_loader, criterion, optimizer, device, num_epochs=10, save_path='model.pth'):\n",
    "    train_losses = []\n",
    "    val_losses = []\n",
    "    train_errors = []\n",
    "    val_errors = []\n",
    "    \n",
    "    best_val_error = float('inf')\n",
    "    \n",
    "    for epoch in range(num_epochs):\n",
    "        train_loss, train_error = train_epoch(model, train_loader, criterion, optimizer, device)\n",
    "        val_loss, val_error = evaluate_epoch(model, val_loader, criterion, device)\n",
    "        \n",
    "        train_losses.append(train_loss)\n",
    "        val_losses.append(val_loss)\n",
    "        train_errors.append(train_error)\n",
    "        val_errors.append(val_error)\n",
    "        \n",
    "        print(f\"Epoch {epoch+1}/{num_epochs} => Train Loss: {train_loss:.4f}, Val Loss: {val_loss:.4f}, Train Error: {train_error:.4f}, ValError: {val_error:.4f}\")\n",
    "\n",
    "        if val_error < best_val_error:\n",
    "            best_val_error = val_error\n",
    "            torch.save(model.state_dict(), save_path)\n",
    "            print(f\"🦸 Best model at epoch {epoch+1} saved to {save_path}\")\n",
    "        \n",
    "    # return train_losses, val_losses, train_errors, val_errors as a dictionary\n",
    "    results_dict = {\n",
    "        'train_losses': train_losses,\n",
    "        'val_losses': val_losses,\n",
    "        'train_errors': train_errors,\n",
    "        'val_errors': val_errors\n",
    "    }\n",
    "    return results_dict "
   ]
  },
  {
   "cell_type": "code",
   "execution_count": 48,
   "metadata": {},
   "outputs": [],
   "source": [
    "def plot_results(results_dict, title):\n",
    "    train_losses = results_dict['train_losses']\n",
    "    val_losses = results_dict['val_losses']\n",
    "    train_errors = results_dict['train_errors']\n",
    "    val_errors = results_dict['val_errors']\n",
    "    \n",
    "    fig, ax = plt.subplots(1, 2, figsize=(12, 6))\n",
    "    ax[0].plot(train_losses, label='Train Loss')\n",
    "    ax[0].plot(val_losses, label='Val Loss')\n",
    "    ax[0].set_title('Loss')\n",
    "    ax[0].legend()\n",
    "    \n",
    "    ax[1].plot(train_errors, label='Train Error')\n",
    "    ax[1].plot(val_errors, label='Val Error')\n",
    "    ax[1].set_title('Mean Absolute Error')\n",
    "    ax[1].legend()\n",
    "    \n",
    "    plt.suptitle(title, fontsize=16)\n",
    "    plt.tight_layout()\n",
    "    plt.show()"
   ]
  },
  {
   "cell_type": "code",
   "execution_count": 49,
   "metadata": {},
   "outputs": [
    {
     "name": "stdout",
     "output_type": "stream",
     "text": [
      "Training on device: cuda\n",
      "Epoch 1/20 => Train Loss: 7.4180, Val Loss: 6.6104, Train Error: 7.8977, ValError: 7.0893\n",
      "🦸 Best model at epoch 1 saved to kronosnet-res-regr.pth\n",
      "Epoch 2/20 => Train Loss: 5.2606, Val Loss: 5.7543, Train Error: 5.7343, ValError: 6.2265\n",
      "🦸 Best model at epoch 2 saved to kronosnet-res-regr.pth\n",
      "Epoch 3/20 => Train Loss: 4.6129, Val Loss: 5.1283, Train Error: 5.0837, ValError: 5.5989\n",
      "🦸 Best model at epoch 3 saved to kronosnet-res-regr.pth\n",
      "Epoch 4/20 => Train Loss: 4.0706, Val Loss: 5.6422, Train Error: 4.5371, ValError: 6.1106\n",
      "Epoch 5/20 => Train Loss: 3.6595, Val Loss: 4.7765, Train Error: 4.1237, ValError: 5.2464\n",
      "🦸 Best model at epoch 5 saved to kronosnet-res-regr.pth\n",
      "Epoch 6/20 => Train Loss: 3.2469, Val Loss: 4.7750, Train Error: 3.7071, ValError: 5.2432\n",
      "🦸 Best model at epoch 6 saved to kronosnet-res-regr.pth\n",
      "Epoch 7/20 => Train Loss: 2.8944, Val Loss: 4.7850, Train Error: 3.3511, ValError: 5.2502\n",
      "Epoch 8/20 => Train Loss: 2.6900, Val Loss: 4.7638, Train Error: 3.1444, ValError: 5.2323\n",
      "🦸 Best model at epoch 8 saved to kronosnet-res-regr.pth\n",
      "Epoch 9/20 => Train Loss: 2.3989, Val Loss: 4.8387, Train Error: 2.8498, ValError: 5.3064\n",
      "Epoch 10/20 => Train Loss: 2.1353, Val Loss: 4.5175, Train Error: 2.5797, ValError: 4.9829\n",
      "🦸 Best model at epoch 10 saved to kronosnet-res-regr.pth\n",
      "Epoch 11/20 => Train Loss: 1.9849, Val Loss: 4.5893, Train Error: 2.4260, ValError: 5.0493\n",
      "Epoch 12/20 => Train Loss: 1.7951, Val Loss: 4.5380, Train Error: 2.2327, ValError: 5.0021\n",
      "Epoch 13/20 => Train Loss: 1.6321, Val Loss: 4.5542, Train Error: 2.0637, ValError: 5.0178\n",
      "Epoch 14/20 => Train Loss: 1.5338, Val Loss: 4.5610, Train Error: 1.9636, ValError: 5.0283\n",
      "Epoch 15/20 => Train Loss: 1.4302, Val Loss: 4.6644, Train Error: 1.8561, ValError: 5.1348\n",
      "Epoch 16/20 => Train Loss: 1.3548, Val Loss: 4.5880, Train Error: 1.7791, ValError: 5.0563\n",
      "Epoch 17/20 => Train Loss: 1.3152, Val Loss: 4.5517, Train Error: 1.7375, ValError: 5.0185\n",
      "Epoch 18/20 => Train Loss: 1.2108, Val Loss: 4.7387, Train Error: 1.6277, ValError: 5.2062\n",
      "Epoch 19/20 => Train Loss: 1.1934, Val Loss: 4.4586, Train Error: 1.6098, ValError: 4.9277\n",
      "🦸 Best model at epoch 19 saved to kronosnet-res-regr.pth\n",
      "Epoch 20/20 => Train Loss: 1.1503, Val Loss: 4.5316, Train Error: 1.5637, ValError: 4.9972\n"
     ]
    }
   ],
   "source": [
    "device = torch.device('cuda' if torch.cuda.is_available() else 'cpu')\n",
    "print(f\"Training on device: {device}\")\n",
    "\n",
    "# defining the model, loss function, and optimizer\n",
    "num_classes = 1\n",
    "freeze_layers = 6\n",
    "knet = KronosNet(num_classes, freeze_layers, use_batchnorm=False).to(device)\n",
    "\n",
    "SAVE_PATH = 'kronosnet-res-regr.pth'\n",
    "LOAD_PRETRAINED = False\n",
    "if LOAD_PRETRAINED:\n",
    "    print(\"Loading pretrained model\")\n",
    "    knet.load_state_dict(torch.load(SAVE_PATH))\n",
    "\n",
    "# criterion = nn.L1Loss()\n",
    "# criterion = nn.MSELoss().to(device)\n",
    "\n",
    "# use L1SmoothLoss\n",
    "criterion = nn.SmoothL1Loss().to(device)\n",
    "\n",
    "lr = 0.002\n",
    "weight_decay = 0.01\n",
    "optimizer = optim.AdamW(knet.parameters(), lr=lr, weight_decay=weight_decay)\n",
    "\n",
    "# defining the data loaders\n",
    "train_loader = torch.utils.data.DataLoader(train_dataset, batch_size=64, shuffle=True, num_workers=8)\n",
    "val_loader = torch.utils.data.DataLoader(val_dataset, batch_size=64, shuffle=False, num_workers=8)\n",
    "test_loader = torch.utils.data.DataLoader(test_dataset, batch_size=64, shuffle=False, num_workers=8)\n",
    "\n",
    "# running the experiment\n",
    "results_dict = run_experiment(knet, train_loader, val_loader, criterion, optimizer, device, num_epochs=20, save_path=SAVE_PATH)"
   ]
  },
  {
   "cell_type": "code",
   "execution_count": 50,
   "metadata": {},
   "outputs": [
    {
     "data": {
      "image/png": "[encoded data removed]",
      "text/plain": [
       "<Figure size 1200x600 with 2 Axes>"
      ]
     },
     "metadata": {},
     "output_type": "display_data"
    }
   ],
   "source": [
    "plot_results(results_dict, 'KronosNet Training Results')"
   ]
  },
  {
   "cell_type": "code",
   "execution_count": 51,
   "metadata": {},
   "outputs": [
    {
     "name": "stderr",
     "output_type": "stream",
     "text": [
      "100%|██████████| 31/31 [00:03<00:00,  8.48it/s]"
     ]
    },
    {
     "name": "stdout",
     "output_type": "stream",
     "text": [
      "Number of test examples: 1950\n"
     ]
    },
    {
     "name": "stderr",
     "output_type": "stream",
     "text": [
      "\n"
     ]
    }
   ],
   "source": [
    "@torch.no_grad\n",
    "def predict(loader, model):\n",
    "    model.eval()\n",
    "    predictions = []\n",
    "\n",
    "    for img in tqdm(loader):\n",
    "        img = img.to(device)\n",
    "\n",
    "        pred = model(img)\n",
    "        # converting predictions to ints\n",
    "        pred = pred.cpu().numpy()\n",
    "        predictions.extend(pred.flatten().tolist())\n",
    "\n",
    "    return predictions\n",
    "\n",
    "# loading the best model\n",
    "knet.load_state_dict(torch.load(SAVE_PATH))\n",
    "knet.to(device)\n",
    "\n",
    "preds = predict(test_loader, knet)\n",
    "submit = pd.read_csv(test_ann_path)\n",
    "submit[\"age\"] = preds\n",
    "submit.head()\n",
    "\n",
    "submit.to_csv(\"baseline.csv\", index=False)\n",
    "\n",
    "# sanity check on the submitted baseline file\n",
    "print(f\"Number of test examples: {len(submit)}\")\n"
   ]
  },
  {
   "cell_type": "code",
   "execution_count": null,
   "metadata": {},
   "outputs": [],
   "source": []
  }
 ],
 "metadata": {
  "kernelspec": {
   "display_name": "smai",
   "language": "python",
   "name": "python3"
  },
  "language_info": {
   "codemirror_mode": {
    "name": "ipython",
    "version": 3
   },
   "file_extension": ".py",
   "mimetype": "text/x-python",
   "name": "python",
   "nbconvert_exporter": "python",
   "pygments_lexer": "ipython3",
   "version": "3.10.13"
  }
 },
 "nbformat": 4,
 "nbformat_minor": 2
}
